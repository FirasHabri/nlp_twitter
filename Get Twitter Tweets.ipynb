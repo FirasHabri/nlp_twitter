{
 "cells": [
  {
   "cell_type": "markdown",
   "metadata": {},
   "source": [
    "<p>أولاً قمنا بتضمين المكاتب التي نحتاجها </p>\n",
    "<ul style=\"direction:rtl\">\n",
    "    <li>csv : مكتبة للتعامل مع ملفات التي صيغتها csv</li>\n",
    "    <li>re :مكتبة تحوي على عمليات و توابع للـ regular expressions </li>\n",
    "    <li>pandas : مكتبة تحوي العديد من التوابع للتعامل مع الداتا و إظهارها بجداول</li>\n",
    "    </ul>"
   ]
  },
  {
   "cell_type": "code",
   "execution_count": 113,
   "metadata": {},
   "outputs": [],
   "source": [
    "import csv,re\n",
    "import pandas as pd\n",
    "pd.options.display.max_colwidth = 200"
   ]
  },
  {
   "cell_type": "markdown",
   "metadata": {},
   "source": [
    "<p style=\"direction:rtl\">انشئنا 3 Dataframes و ستحوي على التويتات الخاصة لكل عملية search , مثلا اول dataframe ستحوي التويتات المتعلقة ببرشلونة اما الثانية لريال مدريد و الثالثة لنتائج الكلاسيكو, تم قراءة كل ملف على حدى عبر تابع read_csv و باراميتراته هي إسم الملفو إستخدمنا الـ error_bad_lines للتخلص من الأسطر المعطوبة اي تحوي على تشويه و من ثم سمينا كل عمود بإسم مميز له</p>\n",
    "<p style=\"direction:rtl\">\n",
    "    دمجنا كل DataFrame الى جدول موحد عبر تابع الـ concat و من ثم عملنا reset للـ index لأن عندما عملنا concat القيم المضافة جديدا كانت تحمل الـ index القديم لها و بذلك حدثنا الـ index  للجدول بأكمله و بتعليمة الـ sample قمنا بخلص الأسطر لدينا لحدوث بعض من العشوائية في محتوى الأسطر و خزنا الجدول كملف إيكسل\n",
    "    </p>"
   ]
  },
  {
   "cell_type": "code",
   "execution_count": 114,
   "metadata": {},
   "outputs": [],
   "source": [
    "df = pd.read_csv('tweetsBar.csv',error_bad_lines=False, names = [\"Date\", \"Month\", \"Day\", \"Min\",\"Sec\",\"M-Sec\",\"Tweet\",\"Language\"])\n",
    "df2 = pd.read_csv('tweetsRM.csv',error_bad_lines=False, names = [\"Date\", \"Month\", \"Day\", \"Min\",\"Sec\",\"M-Sec\",\"Tweet\",\"Language\"])\n",
    "df3 = pd.read_csv('tweetsCL.csv',error_bad_lines=False, names = [\"Date\", \"Month\", \"Day\", \"Min\",\"Sec\",\"M-Sec\",\"Tweet\",\"Language\"])\n",
    "\n",
    "frames = [df, df2, df3]\n",
    "tweets = pd.concat(frames)\n",
    "tweets.reset_index(drop=True, inplace=True)\n",
    "tweets = tweets.sample(frac=1).reset_index(drop=True)\n",
    "tweets.to_excel(\"Twitter.xlsx\")"
   ]
  },
  {
   "cell_type": "markdown",
   "metadata": {},
   "source": [
    "<p style=\"direction:rtl\">شكل الجدول لدينا</p>"
   ]
  },
  {
   "cell_type": "code",
   "execution_count": 115,
   "metadata": {},
   "outputs": [
    {
     "data": {
      "text/html": [
       "<div>\n",
       "<style scoped>\n",
       "    .dataframe tbody tr th:only-of-type {\n",
       "        vertical-align: middle;\n",
       "    }\n",
       "\n",
       "    .dataframe tbody tr th {\n",
       "        vertical-align: top;\n",
       "    }\n",
       "\n",
       "    .dataframe thead th {\n",
       "        text-align: right;\n",
       "    }\n",
       "</style>\n",
       "<table border=\"1\" class=\"dataframe\">\n",
       "  <thead>\n",
       "    <tr style=\"text-align: right;\">\n",
       "      <th></th>\n",
       "      <th>Date</th>\n",
       "      <th>Month</th>\n",
       "      <th>Day</th>\n",
       "      <th>Min</th>\n",
       "      <th>Sec</th>\n",
       "      <th>M-Sec</th>\n",
       "      <th>Tweet</th>\n",
       "      <th>Language</th>\n",
       "    </tr>\n",
       "  </thead>\n",
       "  <tbody>\n",
       "    <tr>\n",
       "      <th>0</th>\n",
       "      <td>|[datetime.datetime(2018</td>\n",
       "      <td>11</td>\n",
       "      <td>14</td>\n",
       "      <td>0</td>\n",
       "      <td>21</td>\n",
       "      <td>56)]|</td>\n",
       "      <td>['انا عارف ان الراجل دا مستحيل ييجي عندنا فمقداميش غير اني ادعي ان ربنا يعمي ادارة برشلونة عنه مش اكتر https://t.co/e6NGFHc9tX']</td>\n",
       "      <td>['ar']</td>\n",
       "    </tr>\n",
       "    <tr>\n",
       "      <th>1</th>\n",
       "      <td>|[datetime.datetime(2018</td>\n",
       "      <td>11</td>\n",
       "      <td>14</td>\n",
       "      <td>3</td>\n",
       "      <td>11</td>\n",
       "      <td>9)]|</td>\n",
       "      <td>['@MuttarALR زامبروتا ما قدم ربع مستواه ايام اليوفي حتى في فترات كثيره جلس احتياط مع انه اكثر صفقه كنت انتظرها توقعت… https://t.co/YcMKgFlBUw']</td>\n",
       "      <td>['ar']</td>\n",
       "    </tr>\n",
       "    <tr>\n",
       "      <th>2</th>\n",
       "      <td>|[datetime.datetime(2018</td>\n",
       "      <td>11</td>\n",
       "      <td>14</td>\n",
       "      <td>0</td>\n",
       "      <td>26</td>\n",
       "      <td>30)]|</td>\n",
       "      <td>['الله يستر\\n\\nخريطة المطر اكبر من خريطة استحواذ برشلونه']</td>\n",
       "      <td>['ar']</td>\n",
       "    </tr>\n",
       "    <tr>\n",
       "      <th>3</th>\n",
       "      <td>|[datetime.datetime(2018</td>\n",
       "      <td>11</td>\n",
       "      <td>13</td>\n",
       "      <td>16</td>\n",
       "      <td>26</td>\n",
       "      <td>10)]|</td>\n",
       "      <td>['@FCBW_A7 و في الكلاسيكو مسوين يعنني متعصبين تفو عليك انت و راموس']</td>\n",
       "      <td>['ar']</td>\n",
       "    </tr>\n",
       "    <tr>\n",
       "      <th>4</th>\n",
       "      <td>|[datetime.datetime(2018</td>\n",
       "      <td>11</td>\n",
       "      <td>14</td>\n",
       "      <td>1</td>\n",
       "      <td>12</td>\n",
       "      <td>51)]|</td>\n",
       "      <td>['RT @ZoYaZenat: رونثيرو : \" سولاري اثبت بانه ملتزم مع بيته ، و ريال مدريد قاموا بعمل جيد بمنحه سنة اضافية \" https://t.co/PAt59lC8E2']</td>\n",
       "      <td>['ar']</td>\n",
       "    </tr>\n",
       "  </tbody>\n",
       "</table>\n",
       "</div>"
      ],
      "text/plain": [
       "                       Date  Month  Day  Min  Sec   M-Sec  \\\n",
       "0  |[datetime.datetime(2018     11   14    0   21   56)]|   \n",
       "1  |[datetime.datetime(2018     11   14    3   11    9)]|   \n",
       "2  |[datetime.datetime(2018     11   14    0   26   30)]|   \n",
       "3  |[datetime.datetime(2018     11   13   16   26   10)]|   \n",
       "4  |[datetime.datetime(2018     11   14    1   12   51)]|   \n",
       "\n",
       "                                                                                                                                             Tweet  \\\n",
       "0                 ['انا عارف ان الراجل دا مستحيل ييجي عندنا فمقداميش غير اني ادعي ان ربنا يعمي ادارة برشلونة عنه مش اكتر https://t.co/e6NGFHc9tX']   \n",
       "1  ['@MuttarALR زامبروتا ما قدم ربع مستواه ايام اليوفي حتى في فترات كثيره جلس احتياط مع انه اكثر صفقه كنت انتظرها توقعت… https://t.co/YcMKgFlBUw']   \n",
       "2                                                                                       ['الله يستر\\n\\nخريطة المطر اكبر من خريطة استحواذ برشلونه']   \n",
       "3                                                                             ['@FCBW_A7 و في الكلاسيكو مسوين يعنني متعصبين تفو عليك انت و راموس']   \n",
       "4           ['RT @ZoYaZenat: رونثيرو : \" سولاري اثبت بانه ملتزم مع بيته ، و ريال مدريد قاموا بعمل جيد بمنحه سنة اضافية \" https://t.co/PAt59lC8E2']   \n",
       "\n",
       "  Language  \n",
       "0   ['ar']  \n",
       "1   ['ar']  \n",
       "2   ['ar']  \n",
       "3   ['ar']  \n",
       "4   ['ar']  "
      ]
     },
     "execution_count": 115,
     "metadata": {},
     "output_type": "execute_result"
    }
   ],
   "source": [
    "tweets.head()"
   ]
  },
  {
   "cell_type": "markdown",
   "metadata": {},
   "source": [
    "<p style=\"direction:rtl\">\n",
    "    نلاحظ ان لدينا اعمدة غير مهمة مثل اللغة و الدقائق الخ... , و التاريخ مقسم الى عدو اعمدة , لذلك قمنا اولاً بتوحيد اعمدة التاريخ الى عمود واحد و من ثم التخلص من الأعمدة الزائدة , ثالثاً قمنا بإنشاء عمود لتخزين إسم المستخدم و من ثم عملية لتخلص من الأسطر الخاطئة\n",
    "</p>"
   ]
  },
  {
   "cell_type": "code",
   "execution_count": 116,
   "metadata": {},
   "outputs": [],
   "source": [
    "for d in tweets['Date']:\n",
    "    tweets['Date'] = re.sub(r'\\|\\[datetime.datetime\\(2018','2018',d)\n",
    "tweets['Date'] = tweets['Date'].map(str) +\"\\\\\"+ tweets['Month'].map(str) +\"\\\\\"+ tweets['Day'].map(str)\n",
    "tweets = tweets.drop(['Month','Day','Min','Sec','M-Sec','Language'], axis=1)\n",
    "tweets['Username'] = ' '\n",
    "tweets = tweets[tweets.Tweet != '[\\'ar\\']']\n",
    "tweets.reset_index(drop=True, inplace=True)"
   ]
  },
  {
   "cell_type": "markdown",
   "metadata": {},
   "source": [
    "شكل الجدول بعد تطبيق العمليات السابقة "
   ]
  },
  {
   "cell_type": "code",
   "execution_count": 117,
   "metadata": {},
   "outputs": [
    {
     "data": {
      "text/html": [
       "<div>\n",
       "<style scoped>\n",
       "    .dataframe tbody tr th:only-of-type {\n",
       "        vertical-align: middle;\n",
       "    }\n",
       "\n",
       "    .dataframe tbody tr th {\n",
       "        vertical-align: top;\n",
       "    }\n",
       "\n",
       "    .dataframe thead th {\n",
       "        text-align: right;\n",
       "    }\n",
       "</style>\n",
       "<table border=\"1\" class=\"dataframe\">\n",
       "  <thead>\n",
       "    <tr style=\"text-align: right;\">\n",
       "      <th></th>\n",
       "      <th>Date</th>\n",
       "      <th>Tweet</th>\n",
       "      <th>Username</th>\n",
       "    </tr>\n",
       "  </thead>\n",
       "  <tbody>\n",
       "    <tr>\n",
       "      <th>0</th>\n",
       "      <td>2018\\11\\14</td>\n",
       "      <td>['انا عارف ان الراجل دا مستحيل ييجي عندنا فمقداميش غير اني ادعي ان ربنا يعمي ادارة برشلونة عنه مش اكتر https://t.co/e6NGFHc9tX']</td>\n",
       "      <td></td>\n",
       "    </tr>\n",
       "    <tr>\n",
       "      <th>1</th>\n",
       "      <td>2018\\11\\14</td>\n",
       "      <td>['@MuttarALR زامبروتا ما قدم ربع مستواه ايام اليوفي حتى في فترات كثيره جلس احتياط مع انه اكثر صفقه كنت انتظرها توقعت… https://t.co/YcMKgFlBUw']</td>\n",
       "      <td></td>\n",
       "    </tr>\n",
       "    <tr>\n",
       "      <th>2</th>\n",
       "      <td>2018\\11\\14</td>\n",
       "      <td>['الله يستر\\n\\nخريطة المطر اكبر من خريطة استحواذ برشلونه']</td>\n",
       "      <td></td>\n",
       "    </tr>\n",
       "    <tr>\n",
       "      <th>3</th>\n",
       "      <td>2018\\11\\13</td>\n",
       "      <td>['@FCBW_A7 و في الكلاسيكو مسوين يعنني متعصبين تفو عليك انت و راموس']</td>\n",
       "      <td></td>\n",
       "    </tr>\n",
       "    <tr>\n",
       "      <th>4</th>\n",
       "      <td>2018\\11\\14</td>\n",
       "      <td>['RT @ZoYaZenat: رونثيرو : \" سولاري اثبت بانه ملتزم مع بيته ، و ريال مدريد قاموا بعمل جيد بمنحه سنة اضافية \" https://t.co/PAt59lC8E2']</td>\n",
       "      <td></td>\n",
       "    </tr>\n",
       "  </tbody>\n",
       "</table>\n",
       "</div>"
      ],
      "text/plain": [
       "         Date  \\\n",
       "0  2018\\11\\14   \n",
       "1  2018\\11\\14   \n",
       "2  2018\\11\\14   \n",
       "3  2018\\11\\13   \n",
       "4  2018\\11\\14   \n",
       "\n",
       "                                                                                                                                             Tweet  \\\n",
       "0                 ['انا عارف ان الراجل دا مستحيل ييجي عندنا فمقداميش غير اني ادعي ان ربنا يعمي ادارة برشلونة عنه مش اكتر https://t.co/e6NGFHc9tX']   \n",
       "1  ['@MuttarALR زامبروتا ما قدم ربع مستواه ايام اليوفي حتى في فترات كثيره جلس احتياط مع انه اكثر صفقه كنت انتظرها توقعت… https://t.co/YcMKgFlBUw']   \n",
       "2                                                                                       ['الله يستر\\n\\nخريطة المطر اكبر من خريطة استحواذ برشلونه']   \n",
       "3                                                                             ['@FCBW_A7 و في الكلاسيكو مسوين يعنني متعصبين تفو عليك انت و راموس']   \n",
       "4           ['RT @ZoYaZenat: رونثيرو : \" سولاري اثبت بانه ملتزم مع بيته ، و ريال مدريد قاموا بعمل جيد بمنحه سنة اضافية \" https://t.co/PAt59lC8E2']   \n",
       "\n",
       "  Username  \n",
       "0           \n",
       "1           \n",
       "2           \n",
       "3           \n",
       "4           "
      ]
     },
     "execution_count": 117,
     "metadata": {},
     "output_type": "execute_result"
    }
   ],
   "source": [
    "tweets.head()"
   ]
  },
  {
   "cell_type": "markdown",
   "metadata": {},
   "source": [
    "<p style=\"direction:rtl\">\n",
    "نقوم بالبحث عن إسم المستخدم لإدخاله للعمود المخصص له و قد قمنا بذلك عن طريق إنشاء مصفوفة احادية تحوي على جميع التوكينز في النص عبر إنشاء اوبجكت من TweetTokenizer , إستخدمنا هذا النوع من الـ Tokenizers لانه مخصص للتويتر حيث سيقوم بالإنتاه على الكلمات التي ستحوي على الرموز @ و #, سنمرق على جميع التويتات و نبحث عن التوكن التي ستحوي @ في بدايتها  و سنقوم بإسناد القيمة في سطرها المخصص من عمود المستحدمين    \n",
    "</p>"
   ]
  },
  {
   "cell_type": "code",
   "execution_count": 37,
   "metadata": {},
   "outputs": [],
   "source": [
    "from nltk.tokenize import TweetTokenizer \n",
    "\n",
    "all_tokens = []\n",
    "tw = TweetTokenizer()\n",
    "for i in range(len(tweets)):\n",
    "    for token in tw.tokenize(tweets['Tweet'][i]):\n",
    "        if token[0] == '@':\n",
    "            tweets['Username'][i] = token"
   ]
  },
  {
   "cell_type": "markdown",
   "metadata": {},
   "source": [
    "عمود المستخدمين بعد تعبئته بالأسماء"
   ]
  },
  {
   "cell_type": "code",
   "execution_count": 38,
   "metadata": {},
   "outputs": [
    {
     "data": {
      "text/html": [
       "<div>\n",
       "<style scoped>\n",
       "    .dataframe tbody tr th:only-of-type {\n",
       "        vertical-align: middle;\n",
       "    }\n",
       "\n",
       "    .dataframe tbody tr th {\n",
       "        vertical-align: top;\n",
       "    }\n",
       "\n",
       "    .dataframe thead th {\n",
       "        text-align: right;\n",
       "    }\n",
       "</style>\n",
       "<table border=\"1\" class=\"dataframe\">\n",
       "  <thead>\n",
       "    <tr style=\"text-align: right;\">\n",
       "      <th></th>\n",
       "      <th>Date</th>\n",
       "      <th>Tweet</th>\n",
       "      <th>Username</th>\n",
       "    </tr>\n",
       "  </thead>\n",
       "  <tbody>\n",
       "    <tr>\n",
       "      <th>0</th>\n",
       "      <td>2018\\11\\14</td>\n",
       "      <td>['RT @khalil135246: عصير الالوفيرا .الصبار\\nيعمل على تنظيف الجسم \\nويعمل على تنشيط الدوره الدمويه\\nويعالج الحموضه والتهاب المعدة \\nويزيل الذهون ا…']</td>\n",
       "      <td>@khalil135246</td>\n",
       "    </tr>\n",
       "    <tr>\n",
       "      <th>1</th>\n",
       "      <td>2018\\11\\13</td>\n",
       "      <td>['RT @M10_G0AT: ميسي ملك الليغا👑\\n-هداف الليغا التاريخي \\n-الأكثر صناعه في تاريخ الليغا\\n-هداف الكلاسيكو التاريخي\\n-الأكثر صناعة في تاريخ الكلاسي…']</td>\n",
       "      <td>@M10_G0AT</td>\n",
       "    </tr>\n",
       "    <tr>\n",
       "      <th>2</th>\n",
       "      <td>2018\\11\\13</td>\n",
       "      <td>['RT @Almoj_alazra8: ليونيل ميسي :\\nالكرة الذهبيه 5 مرات\\nالحذاء الذهبي 5 مرات\\nهداف برشلونه التاريخي\\nهداف الليغا التاريخي\\nهداف الارجنتين التاري…']</td>\n",
       "      <td>@Almoj_alazra8</td>\n",
       "    </tr>\n",
       "    <tr>\n",
       "      <th>3</th>\n",
       "      <td>2018\\11\\14</td>\n",
       "      <td>['RT @RMCFarab: ريفالدو ( لاعب برشلونه سابقاً ) : كان من المُفترض أن يكون فينيسيوس متاحاً في الفريق الأول مُنذ بداية الموسم . https://t.co/rK…']</td>\n",
       "      <td>@RMCFarab</td>\n",
       "    </tr>\n",
       "    <tr>\n",
       "      <th>4</th>\n",
       "      <td>2018\\11\\14</td>\n",
       "      <td>['RT @barcelonaHD: بوسكيتس عن هدف ميسى ضد ريال مدريد  🤣\\nنصف نهائى دورى الأبطال 2011 https://t.co/QJpz36fcW7']</td>\n",
       "      <td>@barcelonaHD</td>\n",
       "    </tr>\n",
       "  </tbody>\n",
       "</table>\n",
       "</div>"
      ],
      "text/plain": [
       "         Date  \\\n",
       "0  2018\\11\\14   \n",
       "1  2018\\11\\13   \n",
       "2  2018\\11\\13   \n",
       "3  2018\\11\\14   \n",
       "4  2018\\11\\14   \n",
       "\n",
       "                                                                                                                                                   Tweet  \\\n",
       "0   ['RT @khalil135246: عصير الالوفيرا .الصبار\\nيعمل على تنظيف الجسم \\nويعمل على تنشيط الدوره الدمويه\\nويعالج الحموضه والتهاب المعدة \\nويزيل الذهون ا…']   \n",
       "1   ['RT @M10_G0AT: ميسي ملك الليغا👑\\n-هداف الليغا التاريخي \\n-الأكثر صناعه في تاريخ الليغا\\n-هداف الكلاسيكو التاريخي\\n-الأكثر صناعة في تاريخ الكلاسي…']   \n",
       "2  ['RT @Almoj_alazra8: ليونيل ميسي :\\nالكرة الذهبيه 5 مرات\\nالحذاء الذهبي 5 مرات\\nهداف برشلونه التاريخي\\nهداف الليغا التاريخي\\nهداف الارجنتين التاري…']   \n",
       "3       ['RT @RMCFarab: ريفالدو ( لاعب برشلونه سابقاً ) : كان من المُفترض أن يكون فينيسيوس متاحاً في الفريق الأول مُنذ بداية الموسم . https://t.co/rK…']   \n",
       "4                                         ['RT @barcelonaHD: بوسكيتس عن هدف ميسى ضد ريال مدريد  🤣\\nنصف نهائى دورى الأبطال 2011 https://t.co/QJpz36fcW7']   \n",
       "\n",
       "         Username  \n",
       "0   @khalil135246  \n",
       "1       @M10_G0AT  \n",
       "2  @Almoj_alazra8  \n",
       "3       @RMCFarab  \n",
       "4    @barcelonaHD  "
      ]
     },
     "execution_count": 38,
     "metadata": {},
     "output_type": "execute_result"
    }
   ],
   "source": [
    "tweets.head()"
   ]
  },
  {
   "cell_type": "markdown",
   "metadata": {},
   "source": [
    "<p style=\"direction:rtl\">\n",
    "    نلاحظ وجود إسم المستخدم في عمود التويت لذلك نقوم بحذفه عبر البحث عنه في السطر و إستبداله عن طريق تابع الـ replace\n",
    "    </p>"
   ]
  },
  {
   "cell_type": "code",
   "execution_count": 40,
   "metadata": {},
   "outputs": [],
   "source": [
    "all_tokens = []\n",
    "tw = TweetTokenizer()\n",
    "for i in range(len(tweets)):\n",
    "    for token in tw.tokenize(tweets['Tweet'][i]):\n",
    "        if token[0] == '@':\n",
    "            tweets['Tweet'][i] = tweets['Tweet'][i].replace(token,'')"
   ]
  },
  {
   "cell_type": "markdown",
   "metadata": {},
   "source": [
    "الجدول بعد حذف إسم المستخدم بعمود التويت"
   ]
  },
  {
   "cell_type": "code",
   "execution_count": 41,
   "metadata": {},
   "outputs": [
    {
     "data": {
      "text/html": [
       "<div>\n",
       "<style scoped>\n",
       "    .dataframe tbody tr th:only-of-type {\n",
       "        vertical-align: middle;\n",
       "    }\n",
       "\n",
       "    .dataframe tbody tr th {\n",
       "        vertical-align: top;\n",
       "    }\n",
       "\n",
       "    .dataframe thead th {\n",
       "        text-align: right;\n",
       "    }\n",
       "</style>\n",
       "<table border=\"1\" class=\"dataframe\">\n",
       "  <thead>\n",
       "    <tr style=\"text-align: right;\">\n",
       "      <th></th>\n",
       "      <th>Date</th>\n",
       "      <th>Tweet</th>\n",
       "      <th>Username</th>\n",
       "    </tr>\n",
       "  </thead>\n",
       "  <tbody>\n",
       "    <tr>\n",
       "      <th>0</th>\n",
       "      <td>2018\\11\\14</td>\n",
       "      <td>['RT : عصير الالوفيرا .الصبار\\nيعمل على تنظيف الجسم \\nويعمل على تنشيط الدوره الدمويه\\nويعالج الحموضه والتهاب المعدة \\nويزيل الذهون ا…']</td>\n",
       "      <td>@khalil135246</td>\n",
       "    </tr>\n",
       "    <tr>\n",
       "      <th>1</th>\n",
       "      <td>2018\\11\\13</td>\n",
       "      <td>['RT : ميسي ملك الليغا👑\\n-هداف الليغا التاريخي \\n-الأكثر صناعه في تاريخ الليغا\\n-هداف الكلاسيكو التاريخي\\n-الأكثر صناعة في تاريخ الكلاسي…']</td>\n",
       "      <td>@M10_G0AT</td>\n",
       "    </tr>\n",
       "    <tr>\n",
       "      <th>2</th>\n",
       "      <td>2018\\11\\13</td>\n",
       "      <td>['RT : ليونيل ميسي :\\nالكرة الذهبيه 5 مرات\\nالحذاء الذهبي 5 مرات\\nهداف برشلونه التاريخي\\nهداف الليغا التاريخي\\nهداف الارجنتين التاري…']</td>\n",
       "      <td>@Almoj_alazra8</td>\n",
       "    </tr>\n",
       "    <tr>\n",
       "      <th>3</th>\n",
       "      <td>2018\\11\\14</td>\n",
       "      <td>['RT : ريفالدو ( لاعب برشلونه سابقاً ) : كان من المُفترض أن يكون فينيسيوس متاحاً في الفريق الأول مُنذ بداية الموسم . https://t.co/rK…']</td>\n",
       "      <td>@RMCFarab</td>\n",
       "    </tr>\n",
       "    <tr>\n",
       "      <th>4</th>\n",
       "      <td>2018\\11\\14</td>\n",
       "      <td>['RT : بوسكيتس عن هدف ميسى ضد ريال مدريد  🤣\\nنصف نهائى دورى الأبطال 2011 https://t.co/QJpz36fcW7']</td>\n",
       "      <td>@barcelonaHD</td>\n",
       "    </tr>\n",
       "  </tbody>\n",
       "</table>\n",
       "</div>"
      ],
      "text/plain": [
       "         Date  \\\n",
       "0  2018\\11\\14   \n",
       "1  2018\\11\\13   \n",
       "2  2018\\11\\13   \n",
       "3  2018\\11\\14   \n",
       "4  2018\\11\\14   \n",
       "\n",
       "                                                                                                                                         Tweet  \\\n",
       "0      ['RT : عصير الالوفيرا .الصبار\\nيعمل على تنظيف الجسم \\nويعمل على تنشيط الدوره الدمويه\\nويعالج الحموضه والتهاب المعدة \\nويزيل الذهون ا…']   \n",
       "1  ['RT : ميسي ملك الليغا👑\\n-هداف الليغا التاريخي \\n-الأكثر صناعه في تاريخ الليغا\\n-هداف الكلاسيكو التاريخي\\n-الأكثر صناعة في تاريخ الكلاسي…']   \n",
       "2      ['RT : ليونيل ميسي :\\nالكرة الذهبيه 5 مرات\\nالحذاء الذهبي 5 مرات\\nهداف برشلونه التاريخي\\nهداف الليغا التاريخي\\nهداف الارجنتين التاري…']   \n",
       "3      ['RT : ريفالدو ( لاعب برشلونه سابقاً ) : كان من المُفترض أن يكون فينيسيوس متاحاً في الفريق الأول مُنذ بداية الموسم . https://t.co/rK…']   \n",
       "4                                           ['RT : بوسكيتس عن هدف ميسى ضد ريال مدريد  🤣\\nنصف نهائى دورى الأبطال 2011 https://t.co/QJpz36fcW7']   \n",
       "\n",
       "         Username  \n",
       "0   @khalil135246  \n",
       "1       @M10_G0AT  \n",
       "2  @Almoj_alazra8  \n",
       "3       @RMCFarab  \n",
       "4    @barcelonaHD  "
      ]
     },
     "execution_count": 41,
     "metadata": {},
     "output_type": "execute_result"
    }
   ],
   "source": [
    "tweets.head()"
   ]
  },
  {
   "cell_type": "markdown",
   "metadata": {},
   "source": [
    "<p style=\"direction:rtl\">\n",
    "    لا يزال علينا تنضيف و إزالة بعض المحارف في التويتات مثل الإيموجز و التعبيرات و علامات الارقيم و روابط الصور و المواقع , قمنا بذلك عبر تابع الـ re.sub لإستبدال كل ما سبق بفراغ\n",
    "    </p>"
   ]
  },
  {
   "cell_type": "code",
   "execution_count": 46,
   "metadata": {},
   "outputs": [],
   "source": [
    "emoji_pattern = re.compile(\"[\"\n",
    "        u\"\\U0001F600-\\U0001F64F\"  # emoticons\n",
    "        u\"\\U0001F300-\\U0001F5FF\"  # symbols & pictographs\n",
    "        u\"\\U0001F680-\\U0001F6FF\"  # transport & map symbols\n",
    "        u\"\\U0001F1E0-\\U0001F1FF\"  # flags (iOS)\n",
    "                           \"]+\", flags=re.UNICODE)\n",
    "for i in range(len(tweets)):\n",
    "    tweets['Tweet'][i] = re.sub(r\"https://.*/.*$\",'',tweets['Tweet'][i]) #Delete links\n",
    "    tweets['Tweet'][i] = emoji_pattern.sub(r'', tweets['Tweet'][i]) #Delete Emoji\n",
    "    tweets['Tweet'][i] = re.sub(r\"\\\\n\",'',tweets['Tweet'][i]) # Delete \\n\n",
    "    tweets['Tweet'][i] = re.sub(r\"RT\",'',tweets['Tweet'][i]) # Delete RT\n",
    "    tweets['Tweet'][i] = re.sub(r\"\\[\\'\",'',tweets['Tweet'][i]) # Delete ['\n",
    "    tweets['Tweet'][i] = re.sub(r\"\\'\\]\",'',tweets['Tweet'][i]) # Delete ']\n",
    "    "
   ]
  },
  {
   "cell_type": "markdown",
   "metadata": {},
   "source": [
    "<p>\n",
    "    التويتات بعد حذف الإضافات \n",
    "    </p>"
   ]
  },
  {
   "cell_type": "code",
   "execution_count": 48,
   "metadata": {},
   "outputs": [
    {
     "data": {
      "text/html": [
       "<div>\n",
       "<style scoped>\n",
       "    .dataframe tbody tr th:only-of-type {\n",
       "        vertical-align: middle;\n",
       "    }\n",
       "\n",
       "    .dataframe tbody tr th {\n",
       "        vertical-align: top;\n",
       "    }\n",
       "\n",
       "    .dataframe thead th {\n",
       "        text-align: right;\n",
       "    }\n",
       "</style>\n",
       "<table border=\"1\" class=\"dataframe\">\n",
       "  <thead>\n",
       "    <tr style=\"text-align: right;\">\n",
       "      <th></th>\n",
       "      <th>Date</th>\n",
       "      <th>Tweet</th>\n",
       "      <th>Username</th>\n",
       "    </tr>\n",
       "  </thead>\n",
       "  <tbody>\n",
       "    <tr>\n",
       "      <th>0</th>\n",
       "      <td>2018\\11\\14</td>\n",
       "      <td>: عصير الالوفيرا .الصبار يعمل على تنظيف الجسم  ويعمل على تنشيط الدوره الدمويه ويعالج الحموضه والتهاب المعدة  ويزيل الذهون ا…</td>\n",
       "      <td>@khalil135246</td>\n",
       "    </tr>\n",
       "    <tr>\n",
       "      <th>1</th>\n",
       "      <td>2018\\11\\13</td>\n",
       "      <td>: ميسي ملك الليغا -هداف الليغا التاريخي  -الأكثر صناعه في تاريخ الليغا -هداف الكلاسيكو التاريخي -الأكثر صناعة في تاريخ الكلاسي…</td>\n",
       "      <td>@M10_G0AT</td>\n",
       "    </tr>\n",
       "    <tr>\n",
       "      <th>2</th>\n",
       "      <td>2018\\11\\13</td>\n",
       "      <td>: ليونيل ميسي : الكرة الذهبيه 5 مرات الحذاء الذهبي 5 مرات هداف برشلونه التاريخي هداف الليغا التاريخي هداف الارجنتين التاري…</td>\n",
       "      <td>@Almoj_alazra8</td>\n",
       "    </tr>\n",
       "    <tr>\n",
       "      <th>3</th>\n",
       "      <td>2018\\11\\14</td>\n",
       "      <td>: ريفالدو ( لاعب برشلونه سابقاً ) : كان من المُفترض أن يكون فينيسيوس متاحاً في الفريق الأول مُنذ بداية الموسم .</td>\n",
       "      <td>@RMCFarab</td>\n",
       "    </tr>\n",
       "    <tr>\n",
       "      <th>4</th>\n",
       "      <td>2018\\11\\14</td>\n",
       "      <td>: بوسكيتس عن هدف ميسى ضد ريال مدريد  🤣 نصف نهائى دورى الأبطال 2011</td>\n",
       "      <td>@barcelonaHD</td>\n",
       "    </tr>\n",
       "  </tbody>\n",
       "</table>\n",
       "</div>"
      ],
      "text/plain": [
       "         Date  \\\n",
       "0  2018\\11\\14   \n",
       "1  2018\\11\\13   \n",
       "2  2018\\11\\13   \n",
       "3  2018\\11\\14   \n",
       "4  2018\\11\\14   \n",
       "\n",
       "                                                                                                                              Tweet  \\\n",
       "0      : عصير الالوفيرا .الصبار يعمل على تنظيف الجسم  ويعمل على تنشيط الدوره الدمويه ويعالج الحموضه والتهاب المعدة  ويزيل الذهون ا…   \n",
       "1   : ميسي ملك الليغا -هداف الليغا التاريخي  -الأكثر صناعه في تاريخ الليغا -هداف الكلاسيكو التاريخي -الأكثر صناعة في تاريخ الكلاسي…   \n",
       "2       : ليونيل ميسي : الكرة الذهبيه 5 مرات الحذاء الذهبي 5 مرات هداف برشلونه التاريخي هداف الليغا التاريخي هداف الارجنتين التاري…   \n",
       "3                  : ريفالدو ( لاعب برشلونه سابقاً ) : كان من المُفترض أن يكون فينيسيوس متاحاً في الفريق الأول مُنذ بداية الموسم .    \n",
       "4                                                               : بوسكيتس عن هدف ميسى ضد ريال مدريد  🤣 نصف نهائى دورى الأبطال 2011    \n",
       "\n",
       "         Username  \n",
       "0   @khalil135246  \n",
       "1       @M10_G0AT  \n",
       "2  @Almoj_alazra8  \n",
       "3       @RMCFarab  \n",
       "4    @barcelonaHD  "
      ]
     },
     "execution_count": 48,
     "metadata": {},
     "output_type": "execute_result"
    }
   ],
   "source": [
    "tweets.head()"
   ]
  },
  {
   "cell_type": "code",
   "execution_count": 49,
   "metadata": {},
   "outputs": [],
   "source": [
    "import tashaphyne.arabic_const as arabconst\n",
    "import nltk"
   ]
  },
  {
   "cell_type": "markdown",
   "metadata": {},
   "source": [
    "<p style=\"direction:rtl\">\n",
    "    للعمل Normalization وجدنا مكتبة تسمى \"تشفين\" تحوي على توابع لبعض عمليات التعديل للغة العربية مثل تحويل الهمزة الى الف و إزالة التشكيل و التطويل.\n",
    "    و قمنا بتطبيقها على جميع الكلمات في التويتات\n",
    "</p>"
   ]
  },
  {
   "cell_type": "code",
   "execution_count": 118,
   "metadata": {},
   "outputs": [],
   "source": [
    "#https://pythonhosted.org/Tashaphyne/tashaphyne.normalize-module.html\n",
    "#https://pypi.org/project/Tashaphyne/\n",
    "\n",
    "def strip_tashkeel(text): \n",
    "    return arabconst.HARAKAT_PAT.sub('', text)\n",
    "def strip_tatweel(text):\n",
    "    return re.sub(r'[%s]' % arabconst.TATWEEL,    '', text)\n",
    "def normalize_hamza(text):\n",
    "    text = arabconst.ALEFAT_PAT.sub(arabconst.ALEF, text) \n",
    "    return arabconst.HAMZAT_PAT.sub(arabconst.HAMZA, text)\n",
    "def normalize_lamalef(text):\n",
    "    return arabconst.LAMALEFAT_PAT.sub(r'%s%s'%(arabconst.LAM, arabconst.ALEF), text)\n",
    "def normalize_spellerrors(text):\n",
    "    text = re.sub(r'[%s]' % arabconst.TEH_MARBUTA,    arabconst.HEH, text) \n",
    "    return re.sub(r'[%s]' % arabconst.ALEF_MAKSURA,    arabconst.YEH, text)\n",
    "def normalize_searchtext(text):\n",
    "    text = strip_tashkeel(text) \n",
    "    text = strip_tatweel(text) \n",
    "    text = normalize_lamalef(text) \n",
    "    text = normalize_hamza(text) \n",
    "    text = normalize_spellerrors(text) \n",
    "    return text "
   ]
  },
  {
   "cell_type": "code",
   "execution_count": 51,
   "metadata": {},
   "outputs": [],
   "source": [
    "for i in range(len(tweets)):\n",
    "    tweets['Tweet'][i] = normalize_searchtext(str(tweets['Tweet'][i]))"
   ]
  },
  {
   "cell_type": "markdown",
   "metadata": {},
   "source": [
    "<p style=\"direction:rtl\">\n",
    "    الجدول بعد عملية الـ Normalization\n",
    "    </p>"
   ]
  },
  {
   "cell_type": "code",
   "execution_count": 52,
   "metadata": {},
   "outputs": [
    {
     "data": {
      "text/html": [
       "<div>\n",
       "<style scoped>\n",
       "    .dataframe tbody tr th:only-of-type {\n",
       "        vertical-align: middle;\n",
       "    }\n",
       "\n",
       "    .dataframe tbody tr th {\n",
       "        vertical-align: top;\n",
       "    }\n",
       "\n",
       "    .dataframe thead th {\n",
       "        text-align: right;\n",
       "    }\n",
       "</style>\n",
       "<table border=\"1\" class=\"dataframe\">\n",
       "  <thead>\n",
       "    <tr style=\"text-align: right;\">\n",
       "      <th></th>\n",
       "      <th>Date</th>\n",
       "      <th>Tweet</th>\n",
       "      <th>Username</th>\n",
       "    </tr>\n",
       "  </thead>\n",
       "  <tbody>\n",
       "    <tr>\n",
       "      <th>0</th>\n",
       "      <td>2018\\11\\14</td>\n",
       "      <td>: عصير الالوفيرا .الصبار يعمل علي تنظيف الجسم  ويعمل علي تنشيط الدوره الدمويه ويعالج الحموضه والتهاب المعده  ويزيل الذهون ا…</td>\n",
       "      <td>@khalil135246</td>\n",
       "    </tr>\n",
       "    <tr>\n",
       "      <th>1</th>\n",
       "      <td>2018\\11\\13</td>\n",
       "      <td>: ميسي ملك الليغا -هداف الليغا التاريخي  -الاكثر صناعه في تاريخ الليغا -هداف الكلاسيكو التاريخي -الاكثر صناعه في تاريخ الكلاسي…</td>\n",
       "      <td>@M10_G0AT</td>\n",
       "    </tr>\n",
       "    <tr>\n",
       "      <th>2</th>\n",
       "      <td>2018\\11\\13</td>\n",
       "      <td>: ليونيل ميسي : الكره الذهبيه 5 مرات الحذاء الذهبي 5 مرات هداف برشلونه التاريخي هداف الليغا التاريخي هداف الارجنتين التاري…</td>\n",
       "      <td>@Almoj_alazra8</td>\n",
       "    </tr>\n",
       "    <tr>\n",
       "      <th>3</th>\n",
       "      <td>2018\\11\\14</td>\n",
       "      <td>: ريفالدو ( لاعب برشلونه سابقا ) : كان من المفترض ان يكون فينيسيوس متاحا في الفريق الاول منذ بدايه الموسم .</td>\n",
       "      <td>@RMCFarab</td>\n",
       "    </tr>\n",
       "    <tr>\n",
       "      <th>4</th>\n",
       "      <td>2018\\11\\14</td>\n",
       "      <td>: بوسكيتس عن هدف ميسي ضد ريال مدريد  🤣 نصف نهاءي دوري الابطال 2011</td>\n",
       "      <td>@barcelonaHD</td>\n",
       "    </tr>\n",
       "  </tbody>\n",
       "</table>\n",
       "</div>"
      ],
      "text/plain": [
       "         Date  \\\n",
       "0  2018\\11\\14   \n",
       "1  2018\\11\\13   \n",
       "2  2018\\11\\13   \n",
       "3  2018\\11\\14   \n",
       "4  2018\\11\\14   \n",
       "\n",
       "                                                                                                                              Tweet  \\\n",
       "0      : عصير الالوفيرا .الصبار يعمل علي تنظيف الجسم  ويعمل علي تنشيط الدوره الدمويه ويعالج الحموضه والتهاب المعده  ويزيل الذهون ا…   \n",
       "1   : ميسي ملك الليغا -هداف الليغا التاريخي  -الاكثر صناعه في تاريخ الليغا -هداف الكلاسيكو التاريخي -الاكثر صناعه في تاريخ الكلاسي…   \n",
       "2       : ليونيل ميسي : الكره الذهبيه 5 مرات الحذاء الذهبي 5 مرات هداف برشلونه التاريخي هداف الليغا التاريخي هداف الارجنتين التاري…   \n",
       "3                      : ريفالدو ( لاعب برشلونه سابقا ) : كان من المفترض ان يكون فينيسيوس متاحا في الفريق الاول منذ بدايه الموسم .    \n",
       "4                                                               : بوسكيتس عن هدف ميسي ضد ريال مدريد  🤣 نصف نهاءي دوري الابطال 2011    \n",
       "\n",
       "         Username  \n",
       "0   @khalil135246  \n",
       "1       @M10_G0AT  \n",
       "2  @Almoj_alazra8  \n",
       "3       @RMCFarab  \n",
       "4    @barcelonaHD  "
      ]
     },
     "execution_count": 52,
     "metadata": {},
     "output_type": "execute_result"
    }
   ],
   "source": [
    "tweets.head()"
   ]
  },
  {
   "cell_type": "markdown",
   "metadata": {},
   "source": [
    "<p style=\"direction:rtl\">\n",
    "    قمنا بحذف جميع عمليات الترقيم عدا الـ # في كل النصوص و إيجاد اكثر الكلمات تكرارا عن طريق الـ Frequency Distribution\n",
    "    </p>"
   ]
  },
  {
   "cell_type": "code",
   "execution_count": 56,
   "metadata": {},
   "outputs": [
    {
     "data": {
      "text/plain": [
       "[('هداف', 403),\n",
       " ('برشلونه', 373),\n",
       " ('في', 312),\n",
       " ('ريال', 288),\n",
       " ('مدريد', 287),\n",
       " ('التاريخي', 272),\n",
       " ('5', 266),\n",
       " ('مرات', 264),\n",
       " ('من', 237),\n",
       " ('ميسي', 167)]"
      ]
     },
     "execution_count": 56,
     "metadata": {},
     "output_type": "execute_result"
    }
   ],
   "source": [
    "puncs = [\",\",\".\",\"``\",\"''\",\";\",\"?\",\"--\",\"-\",\")\",\"(\",\":\",\"!\",\"...\",\"|\",\"…\",\"،\"]          \n",
    "all_tokens = []\n",
    "tw = TweetTokenizer()\n",
    "for i in range(len(tweets)):\n",
    "    for token in tw.tokenize(tweets['Tweet'][i]):\n",
    "        if token not in puncs:\n",
    "            all_tokens.append(token)\n",
    "        \n",
    "fdist1 = nltk.FreqDist(all_tokens)\n",
    "fdist1.most_common(10)"
   ]
  },
  {
   "cell_type": "code",
   "execution_count": 64,
   "metadata": {},
   "outputs": [
    {
     "data": {
      "image/png": "[encoded data removed]",
      "text/plain": [
       "<Figure size 640x480 with 1 Axes>"
      ]
     },
     "metadata": {},
     "output_type": "display_data"
    },
    {
     "data": {
      "image/png": "[encoded data removed]",
      "text/plain": [
       "<Figure size 432x288 with 1 Axes>"
      ]
     },
     "metadata": {},
     "output_type": "display_data"
    },
    {
     "name": "stdout",
     "output_type": "stream",
     "text": [
      "Most Common words : [('هداف', 403), ('برشلونه', 373), ('في', 312), ('ريال', 288), ('مدريد', 287), ('التاريخي', 272), ('5', 266), ('مرات', 264), ('من', 237), ('ميسي', 167)]\n",
      "Least Common words [('يهودي', 1), ('اصبروا', 1), ('لين', 1), ('تشتري', 1), ('اريكسون', 1), ('ياخي', 1), ('وسسطنا', 1), ('ضضايع', 1), ('التشيرينغو', 1), ('وقع', 1)]\n"
     ]
    }
   ],
   "source": [
    "import matplotlib.pyplot as plt\n",
    "from matplotlib.pyplot import figure\n",
    "figure(num=None, figsize=(8, 6), dpi=80, facecolor='w', edgecolor='k')\n",
    "\n",
    "lstCnt=[]\n",
    "lstLbl=[]\n",
    "for t in fdist1.most_common(5):\n",
    "    lstLbl.append(t[0])\n",
    "    lstCnt.append(t[1])\n",
    "for t in fdist1.most_common()[len(fdist1)-6:len(fdist1)-1]:\n",
    "    lstLbl.append(t[0])\n",
    "    lstCnt.append(t[1])\n",
    "\n",
    "fdist1.plot()\n",
    "plt.plot(lstLbl,lstCnt)\n",
    "plt.show()\n",
    "print(\"Most Common words : \" + str(fdist1.most_common(10))\n",
    "      + \"\\n\" + \"Least Common words \"  + str(fdist1.most_common()[len(fdist1)-11:len(fdist1)-1]))"
   ]
  },
  {
   "cell_type": "code",
   "execution_count": 79,
   "metadata": {},
   "outputs": [],
   "source": [
    "from nltk.collocations import *\n",
    "\n",
    "all_tokens = []\n",
    "tw = TweetTokenizer()\n",
    "for i in range(len(tweets)):\n",
    "    for token in tw.tokenize(tweets['Tweet'][i]):\n",
    "        if('#' not in token and '@' not in token):\n",
    "            all_tokens.append(token)\n",
    "        \n",
    "finder = BigramCollocationFinder.from_words(all_tokens)    \n",
    "bigram_measures = nltk.collocations.BigramAssocMeasures()"
   ]
  },
  {
   "cell_type": "code",
   "execution_count": 89,
   "metadata": {},
   "outputs": [
    {
     "data": {
      "text/plain": [
       "[('الاخيره', 'بتوفر'),\n",
       " ('الاساطير', 'بمختلف'),\n",
       " ('الاشخاص', 'الذ'),\n",
       " ('الاصابات', 'الرياضيه'),\n",
       " ('الاطفال', 'الذين'),\n",
       " ('الاطقم', 'الثلاثه'),\n",
       " ('الاغلب', 'اشاد'),\n",
       " ('الانتر', 'ذهاب'),\n",
       " ('الاوقات', 'السيءه'),\n",
       " ('البرشا', 'الاريحيه'),\n",
       " ('البيدج', 'فاهم'),\n",
       " ('التجارب', 'العلميه'),\n",
       " ('التخطيط', 'للسفر'),\n",
       " ('التزاوج', 'انجاب'),\n",
       " ('التصميم', 'الواحد'),\n",
       " ('التعامل', 'السليم'),\n",
       " ('التعليمات', 'لميسي'),\n",
       " ('التقرير', 'استمتعو'),\n",
       " ('التلفاز', 'وساستمتع'),\n",
       " ('التنس', 'فيدرر')]"
      ]
     },
     "execution_count": 89,
     "metadata": {},
     "output_type": "execute_result"
    }
   ],
   "source": [
    "collacations = finder.nbest(bigram_measures.pmi,100)\n",
    "collacations[50:70]"
   ]
  },
  {
   "cell_type": "code",
   "execution_count": 98,
   "metadata": {},
   "outputs": [
    {
     "data": {
      "text/plain": [
       "[('#الهلال_الوحده', 22),\n",
       " ('#بوبي_روبسن', 4),\n",
       " ('#خطا_فني_يعيد_الكلاسيكو', 4),\n",
       " ('#ريال_مدريد', 4),\n",
       " ('#برشلونه', 4),\n",
       " ('#طقطقه', 3),\n",
       " ('#الكلاسيكو', 3),\n",
       " ('#الهلال_الاتحاد', 3),\n",
       " ('#الهلال', 3),\n",
       " ('#نصر_الاصرار_عزيمه_وانتصار', 2)]"
      ]
     },
     "execution_count": 98,
     "metadata": {},
     "output_type": "execute_result"
    }
   ],
   "source": [
    "all_tokens = []\n",
    "tw = TweetTokenizer()\n",
    "for i in range(len(tweets)):\n",
    "    for token in tw.tokenize(tweets['Tweet'][i]):\n",
    "        if '#' in token:\n",
    "            all_tokens.append(token)\n",
    "fdist2 = nltk.FreqDist(all_tokens)\n",
    "fdist2.most_common(10)"
   ]
  },
  {
   "cell_type": "code",
   "execution_count": null,
   "metadata": {},
   "outputs": [],
   "source": []
  },
  {
   "cell_type": "code",
   "execution_count": null,
   "metadata": {},
   "outputs": [],
   "source": []
  },
  {
   "cell_type": "code",
   "execution_count": null,
   "metadata": {},
   "outputs": [],
   "source": []
  },
  {
   "cell_type": "code",
   "execution_count": null,
   "metadata": {},
   "outputs": [],
   "source": []
  },
  {
   "cell_type": "code",
   "execution_count": null,
   "metadata": {},
   "outputs": [],
   "source": []
  },
  {
   "cell_type": "code",
   "execution_count": null,
   "metadata": {},
   "outputs": [],
   "source": []
  }
 ],
 "metadata": {
  "celltoolbar": "Raw Cell Format",
  "kernelspec": {
   "display_name": "Python 3",
   "language": "python",
   "name": "python3"
  },
  "language_info": {
   "codemirror_mode": {
    "name": "ipython",
    "version": 3
   },
   "file_extension": ".py",
   "mimetype": "text/x-python",
   "name": "python",
   "nbconvert_exporter": "python",
   "pygments_lexer": "ipython3",
   "version": "3.7.1"
  }
 },
 "nbformat": 4,
 "nbformat_minor": 2
}
